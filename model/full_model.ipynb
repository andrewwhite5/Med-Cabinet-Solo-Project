{
 "cells": [
  {
   "cell_type": "code",
   "execution_count": 4,
   "metadata": {},
   "outputs": [],
   "source": [
    "import pandas as pd\n",
    "import json"
   ]
  },
  {
   "cell_type": "code",
   "execution_count": 6,
   "metadata": {},
   "outputs": [
    {
     "data": {
      "text/html": [
       "<div>\n",
       "<style scoped>\n",
       "    .dataframe tbody tr th:only-of-type {\n",
       "        vertical-align: middle;\n",
       "    }\n",
       "\n",
       "    .dataframe tbody tr th {\n",
       "        vertical-align: top;\n",
       "    }\n",
       "\n",
       "    .dataframe thead th {\n",
       "        text-align: right;\n",
       "    }\n",
       "</style>\n",
       "<table border=\"1\" class=\"dataframe\">\n",
       "  <thead>\n",
       "    <tr style=\"text-align: right;\">\n",
       "      <th></th>\n",
       "      <th>id</th>\n",
       "      <th>name</th>\n",
       "      <th>medical</th>\n",
       "      <th>positive</th>\n",
       "      <th>negative</th>\n",
       "      <th>flavor</th>\n",
       "      <th>type</th>\n",
       "      <th>rating</th>\n",
       "      <th>description</th>\n",
       "    </tr>\n",
       "  </thead>\n",
       "  <tbody>\n",
       "    <tr>\n",
       "      <td>0</td>\n",
       "      <td>0</td>\n",
       "      <td>Afpak</td>\n",
       "      <td>Depression,Insomnia,Pain,Stress,Lack of Appetite</td>\n",
       "      <td>Relaxed,Creative,Focused,Sleepy,Happy</td>\n",
       "      <td>Dizzy</td>\n",
       "      <td>Pine,Spicy/Herbal,Earthy</td>\n",
       "      <td>hybrid</td>\n",
       "      <td>4.2</td>\n",
       "      <td>Afpak, named for its direct Afghani and Pakist...</td>\n",
       "    </tr>\n",
       "  </tbody>\n",
       "</table>\n",
       "</div>"
      ],
      "text/plain": [
       "   id   name                                           medical  \\\n",
       "0   0  Afpak  Depression,Insomnia,Pain,Stress,Lack of Appetite   \n",
       "\n",
       "                                positive negative                    flavor  \\\n",
       "0  Relaxed,Creative,Focused,Sleepy,Happy    Dizzy  Pine,Spicy/Herbal,Earthy   \n",
       "\n",
       "     type  rating                                        description  \n",
       "0  hybrid     4.2  Afpak, named for its direct Afghani and Pakist...  "
      ]
     },
     "execution_count": 6,
     "metadata": {},
     "output_type": "execute_result"
    }
   ],
   "source": [
    "df = pd.read_csv('../data/csv/cannabis.csv')\n",
    "df.head(1)"
   ]
  },
  {
   "cell_type": "code",
   "execution_count": 7,
   "metadata": {},
   "outputs": [
    {
     "name": "stdout",
     "output_type": "stream",
     "text": [
      "Depression\n"
     ]
    }
   ],
   "source": [
    "input = '{\"symptom_1\":\"Depression\", \"symptom_2\":\"Nausea\", \"positive_1\":\"Happy\", \"positive_2\":\"Euphoric\", \"description\":\"My name is Bobby. The only kind of cannabis Ive used was a light green and I think it came from Northeast Asia. I dont remember what it was called.\"}'\n",
    "\n",
    "# Parse input\n",
    "med_request = json.loads(input)\n",
    "\n",
    "# Check\n",
    "print(med_request[\"symptom_1\"])"
   ]
  },
  {
   "cell_type": "code",
   "execution_count": null,
   "metadata": {},
   "outputs": [],
   "source": [
    "cannabis['medical'] = cannabis['medical'].astype(str)\n",
    "cannabis['positive'] = cannabis['positive'].astype(str)\n",
    "\n",
    "\n",
    "symptom_1 = input(\"what is the first symptom: \")#\"pain|\"\n",
    "cannabis['score1'] = np.where(cannabis['medical'].str.contains((symptom_1), flags=re.IGNORECASE, regex=True), +0.5, 0)\n",
    "\n",
    "symptom_2 = input(\"what is the second symptom: \")#\"headache|\" \n",
    "cannabis['score2'] = np.where(cannabis['medical'].str.contains((symptom_2), flags=re.IGNORECASE, regex=True), +0.5, 0)\n",
    "\n",
    "positive_1 = input(\"what is a positve effect you'd like to experience: \")#\"euphoria\" \n",
    "cannabis['score3'] = np.where(cannabis['positive'].str.contains((positive_1), flags=re.IGNORECASE, regex=True), +0.5, 0)\n",
    "\n",
    "positive_2 = input(\"what is a another positve effect you'd like to experience: \")#\"relaxed\" \n",
    "cannabis['score4'] = np.where(cannabis['positive'].str.contains((positive_2), flags=re.IGNORECASE, regex=True), +0.5, 0)\n",
    "\n",
    "cannabis['score'] = cannabis['score1']+cannabis['score2']+cannabis['score3']+cannabis['score4']\n",
    "\n",
    "print(cannabis['score'].to_string())"
   ]
  }
 ],
 "metadata": {
  "kernelspec": {
   "display_name": "Python 3",
   "language": "python",
   "name": "python3"
  },
  "language_info": {
   "codemirror_mode": {
    "name": "ipython",
    "version": 3
   },
   "file_extension": ".py",
   "mimetype": "text/x-python",
   "name": "python",
   "nbconvert_exporter": "python",
   "pygments_lexer": "ipython3",
   "version": "3.7.4"
  }
 },
 "nbformat": 4,
 "nbformat_minor": 4
}
