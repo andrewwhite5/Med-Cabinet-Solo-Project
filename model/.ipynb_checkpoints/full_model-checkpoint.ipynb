{
 "cells": [
  {
   "cell_type": "code",
   "execution_count": 4,
   "metadata": {},
   "outputs": [],
   "source": [
    "import pandas as pd\n",
    "import json"
   ]
  },
  {
   "cell_type": "code",
   "execution_count": 6,
   "metadata": {},
   "outputs": [
    {
     "data": {
      "text/html": [
       "<div>\n",
       "<style scoped>\n",
       "    .dataframe tbody tr th:only-of-type {\n",
       "        vertical-align: middle;\n",
       "    }\n",
       "\n",
       "    .dataframe tbody tr th {\n",
       "        vertical-align: top;\n",
       "    }\n",
       "\n",
       "    .dataframe thead th {\n",
       "        text-align: right;\n",
       "    }\n",
       "</style>\n",
       "<table border=\"1\" class=\"dataframe\">\n",
       "  <thead>\n",
       "    <tr style=\"text-align: right;\">\n",
       "      <th></th>\n",
       "      <th>id</th>\n",
       "      <th>name</th>\n",
       "      <th>medical</th>\n",
       "      <th>positive</th>\n",
       "      <th>negative</th>\n",
       "      <th>flavor</th>\n",
       "      <th>type</th>\n",
       "      <th>rating</th>\n",
       "      <th>description</th>\n",
       "    </tr>\n",
       "  </thead>\n",
       "  <tbody>\n",
       "    <tr>\n",
       "      <td>0</td>\n",
       "      <td>0</td>\n",
       "      <td>Afpak</td>\n",
       "      <td>Depression,Insomnia,Pain,Stress,Lack of Appetite</td>\n",
       "      <td>Relaxed,Creative,Focused,Sleepy,Happy</td>\n",
       "      <td>Dizzy</td>\n",
       "      <td>Pine,Spicy/Herbal,Earthy</td>\n",
       "      <td>hybrid</td>\n",
       "      <td>4.2</td>\n",
       "      <td>Afpak, named for its direct Afghani and Pakist...</td>\n",
       "    </tr>\n",
       "  </tbody>\n",
       "</table>\n",
       "</div>"
      ],
      "text/plain": [
       "   id   name                                           medical  \\\n",
       "0   0  Afpak  Depression,Insomnia,Pain,Stress,Lack of Appetite   \n",
       "\n",
       "                                positive negative                    flavor  \\\n",
       "0  Relaxed,Creative,Focused,Sleepy,Happy    Dizzy  Pine,Spicy/Herbal,Earthy   \n",
       "\n",
       "     type  rating                                        description  \n",
       "0  hybrid     4.2  Afpak, named for its direct Afghani and Pakist...  "
      ]
     },
     "execution_count": 6,
     "metadata": {},
     "output_type": "execute_result"
    }
   ],
   "source": [
    "df = pd.read_csv('../data/csv/cannabis.csv')\n",
    "df.head(1)"
   ]
  },
  {
   "cell_type": "code",
   "execution_count": 3,
   "metadata": {},
   "outputs": [
    {
     "name": "stdout",
     "output_type": "stream",
     "text": [
      "Depression\n"
     ]
    }
   ],
   "source": [
    "input = '{ \"symptom_1\":\"Depression\", \"symptom_2\":\"Nausea\", \"positive_1\":\"Happy\", \"positive_2\":\"Euphoric\", \"description\":\"My name is Bobby. The only kind of cannabis Ive used was a light green and I think it came from Northeast Asia. I dont remember what it was called.\"}'\n",
    "\n",
    "# Parse input\n",
    "med_request = json.loads(input)\n",
    "\n",
    "# Check\n",
    "print(med_request[\"symptom_1\"])"
   ]
  },
  {
   "cell_type": "code",
   "execution_count": null,
   "metadata": {},
   "outputs": [],
   "source": []
  }
 ],
 "metadata": {
  "kernelspec": {
   "display_name": "Python 3",
   "language": "python",
   "name": "python3"
  },
  "language_info": {
   "codemirror_mode": {
    "name": "ipython",
    "version": 3
   },
   "file_extension": ".py",
   "mimetype": "text/x-python",
   "name": "python",
   "nbconvert_exporter": "python",
   "pygments_lexer": "ipython3",
   "version": "3.7.4"
  }
 },
 "nbformat": 4,
 "nbformat_minor": 4
}
